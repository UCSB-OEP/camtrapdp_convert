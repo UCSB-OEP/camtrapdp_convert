{
 "cells": [
  {
   "cell_type": "code",
   "execution_count": null,
   "id": "2f3d6b82-8eb0-4a8f-952e-1c965b699ec1",
   "metadata": {},
   "outputs": [
    {
     "data": {
      "application/vnd.jupyter.widget-view+json": {
       "model_id": "73de8934eacc4e28903275a6b88fb294",
       "version_major": 2,
       "version_minor": 0
      },
      "text/plain": [
       "open_clip_config.json:   0%|          | 0.00/534 [00:00<?, ?B/s]"
      ]
     },
     "metadata": {},
     "output_type": "display_data"
    },
    {
     "name": "stderr",
     "output_type": "stream",
     "text": [
      "C:\\Users\\javie\\CamTrapDP\\CamTrapDP\\.venv311\\Lib\\site-packages\\huggingface_hub\\file_download.py:143: UserWarning: `huggingface_hub` cache-system uses symlinks by default to efficiently store duplicated files but your machine does not support them in C:\\Users\\javie\\.cache\\huggingface\\hub\\models--imageomics--bioclip-2. Caching files will still work but in a degraded version that might require more space on your disk. This warning can be disabled by setting the `HF_HUB_DISABLE_SYMLINKS_WARNING` environment variable. For more details, see https://huggingface.co/docs/huggingface_hub/how-to-cache#limitations.\n",
      "To support symlinks on Windows, you either need to activate Developer Mode or to run Python as an administrator. In order to activate developer mode, see this article: https://docs.microsoft.com/en-us/windows/apps/get-started/enable-your-device-for-development\n",
      "  warnings.warn(message)\n",
      "Xet Storage is enabled for this repo, but the 'hf_xet' package is not installed. Falling back to regular HTTP download. For better performance, install the package with: `pip install huggingface_hub[hf_xet]` or `pip install hf_xet`\n",
      "WARNING:huggingface_hub.file_download:Xet Storage is enabled for this repo, but the 'hf_xet' package is not installed. Falling back to regular HTTP download. For better performance, install the package with: `pip install huggingface_hub[hf_xet]` or `pip install hf_xet`\n"
     ]
    },
    {
     "data": {
      "application/vnd.jupyter.widget-view+json": {
       "model_id": "86056eafc16a4e7b84bf3ead965076ea",
       "version_major": 2,
       "version_minor": 0
      },
      "text/plain": [
       "open_clip_model.safetensors:   0%|          | 0.00/1.71G [00:00<?, ?B/s]"
      ]
     },
     "metadata": {},
     "output_type": "display_data"
    },
    {
     "name": "stdout",
     "output_type": "stream",
     "text": [
      "✅ BioCLIP loaded on cpu\n"
     ]
    }
   ],
   "source": [
    "import torch\n",
    "import open_clip\n",
    "\n",
    "device = \"cpu\"  # keep CPU for now\n",
    "\n",
    "model, preprocess_train, preprocess_val = open_clip.create_model_and_transforms(\n",
    "    \"hf-hub:imageomics/bioclip-2\"\n",
    ")\n",
    "tokenizer = open_clip.get_tokenizer(\"hf-hub:imageomics/bioclip-2\")\n",
    "model = model.to(device).eval()\n",
    "\n",
    "print(\"BioCLIP loaded on\", device)\n"
   ]
  },
  {
   "cell_type": "code",
   "execution_count": 2,
   "id": "7ab35eac-0784-46a4-aee9-850c5df25f37",
   "metadata": {},
   "outputs": [
    {
     "name": "stdout",
     "output_type": "stream",
     "text": [
      "Sample: data\\CAM 1 PT 1\\RCNX0229.JPG\n",
      "a photo of a human                  0.880\n",
      "a photo of a vehicle                0.120\n",
      "an image with no animals (blank)    0.000\n",
      "a wildlife animal                   0.000\n"
     ]
    }
   ],
   "source": [
    "from pathlib import Path\n",
    "from PIL import Image\n",
    "\n",
    "\n",
    "sample = next(Path(\"data\").rglob(\"*.JPG\"))\n",
    "\n",
    "\n",
    "img = Image.open(sample).convert(\"RGB\")\n",
    "img_t = preprocess_val(img).unsqueeze(0).to(device)\n",
    "\n",
    "labels = [\n",
    "    \"an image with no animals (blank)\",\n",
    "    \"a photo of a human\",\n",
    "    \"a photo of a vehicle\",\n",
    "    \"a wildlife animal\",\n",
    "]\n",
    "text = tokenizer(labels).to(device)\n",
    "\n",
    "with torch.no_grad():\n",
    "    image_features = model.encode_image(img_t)\n",
    "    text_features = model.encode_text(text)\n",
    "    image_features /= image_features.norm(dim=-1, keepdim=True)\n",
    "    text_features /= text_features.norm(dim=-1, keepdim=True)\n",
    "    logits = 100.0 * image_features @ text_features.T\n",
    "    probs = logits.softmax(dim=-1).squeeze(0).tolist()\n",
    "\n",
    "\n",
    "ranked = sorted(zip(labels, probs), key=lambda x: x[1], reverse=True)\n",
    "print(\"Sample:\", sample)\n",
    "for lbl, p in ranked:\n",
    "    print(f\"{lbl:35s} {p:.3f}\")\n"
   ]
  },
  {
   "cell_type": "code",
   "execution_count": 2,
   "id": "5764ce6f-fa64-4576-b798-8555d4275037",
   "metadata": {},
   "outputs": [
    {
     "name": "stdout",
     "output_type": "stream",
     "text": [
      "✅ Wrote C:\\Users\\javie\\CamTrapDP\\CamTrapDP\\datapackage\\detections_bioclip.csv with 20 rows at 2025-08-27T13:07:38.933052Z\n"
     ]
    }
   ],
   "source": [
    "%run scripts/detect_bioclip.py --limit 20\n"
   ]
  },
  {
   "cell_type": "code",
   "execution_count": 1,
   "id": "a80f10fe-a308-4d49-9897-197509cd3016",
   "metadata": {},
   "outputs": [
    {
     "name": "stdout",
     "output_type": "stream",
     "text": [
      " Wrote C:\\Users\\javie\\CamTrapDP\\CamTrapDP\\datapackage\\detections_bioclip.csv with 7 rows at 2025-08-27T13:59:06.721135Z\n"
     ]
    }
   ],
   "source": [
    "%run scripts/detect_bioclip.py --limit 7"
   ]
  }
 ],
 "metadata": {
  "kernelspec": {
   "display_name": "Python (camtrap)",
   "language": "python",
   "name": "camtrap"
  },
  "language_info": {
   "codemirror_mode": {
    "name": "ipython",
    "version": 3
   },
   "file_extension": ".py",
   "mimetype": "text/x-python",
   "name": "python",
   "nbconvert_exporter": "python",
   "pygments_lexer": "ipython3",
   "version": "3.11.0"
  }
 },
 "nbformat": 4,
 "nbformat_minor": 5
}
